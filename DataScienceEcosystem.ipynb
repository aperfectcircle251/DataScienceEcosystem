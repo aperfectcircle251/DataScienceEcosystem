{
 "cells": [
  {
   "cell_type": "markdown",
   "id": "704838f6-2f6a-4032-beb2-ac29091dae9f",
   "metadata": {},
   "source": [
    "<h1>Data Science Tools and Ecosystem</h1>"
   ]
  },
  {
   "cell_type": "markdown",
   "id": "18754547-2ef1-4568-ad13-fccf8d8121dc",
   "metadata": {},
   "source": [
    "In this notebook, Data Science Tools and Ecosystem are summarized."
   ]
  },
  {
   "cell_type": "markdown",
   "id": "c6ec3ab7-e706-46f4-b9a1-a5d2ebc2a3b8",
   "metadata": {},
   "source": [
    "Some of the popular languages that Data Scientists use are:\n",
    "<ol>\n",
    "    <li>Python</li>\n",
    "    <li>R</li>\n",
    "    <li>Julia</li>\n",
    "</ol>"
   ]
  },
  {
   "cell_type": "markdown",
   "id": "5c8cb2f0-4561-44e9-ad07-d75e21426c14",
   "metadata": {},
   "source": [
    "Objectives:\n",
    "<ul>\n",
    "    <li>List popular languages for Data Science</li>\n",
    "    <li>Most popular data science tools</li>\n",
    "    <li>Examples: Addictions and conversion from minutes to hours</li>\n",
    "</ul>\n",
    "\n",
    "<h2>Author</h2>\n",
    "Massimo Di G."
   ]
  },
  {
   "cell_type": "markdown",
   "id": "8ab2428e-b88b-4ca8-99cd-ad88109b0d68",
   "metadata": {},
   "source": [
    "Some of the commonly used libraries used by Data Scientists include:\n",
    "<ol>\n",
    "    <li>Pandas</li>\n",
    "    <li>NumPy</li>\n",
    "    <li>SKLearn</li>\n",
    "</ol>"
   ]
  },
  {
   "cell_type": "markdown",
   "id": "54304c5f-dc3f-46a0-9adf-1a1853191f6d",
   "metadata": {},
   "source": [
    "<table>\n",
    "    <tr>\n",
    "        <th>Data Science Tools</th>\n",
    "    </tr>\n",
    "    <tr>\n",
    "        <td>Jupyter</td>\n",
    "    </tr>    \n",
    "    <tr>\n",
    "        <td>RStudio</td>\n",
    "    </tr> \n",
    "    <tr>\n",
    "        <td>GitHub</td>\n",
    "    </tr> \n",
    "</table>"
   ]
  },
  {
   "cell_type": "markdown",
   "id": "9a91aaa3-b18b-48d8-84f4-b02101f44534",
   "metadata": {},
   "source": [
    "<h3>Below are a few examples of evaluating arithmetic expressions in Python</h3>"
   ]
  },
  {
   "cell_type": "code",
   "execution_count": 7,
   "id": "f59c9bcf-8cb5-4398-8639-7211e3740ebc",
   "metadata": {},
   "outputs": [
    {
     "data": {
      "text/plain": [
       "17"
      ]
     },
     "execution_count": 7,
     "metadata": {},
     "output_type": "execute_result"
    }
   ],
   "source": [
    "#This a simple arithmetic expression to mutiply then add integers\n",
    "(3 * 4) + 5"
   ]
  },
  {
   "cell_type": "code",
   "execution_count": 9,
   "id": "80a5a6e1-37e0-47b9-86e1-371eeec63ad3",
   "metadata": {},
   "outputs": [
    {
     "data": {
      "text/plain": [
       "3.3333333333333335"
      ]
     },
     "execution_count": 9,
     "metadata": {},
     "output_type": "execute_result"
    }
   ],
   "source": [
    "#This will convert 200 minutes to hours by diving by 60\n",
    "200 / 60"
   ]
  },
  {
   "cell_type": "code",
   "execution_count": null,
   "id": "fbc1ac80-e489-4ec0-8acd-2f19103c7f88",
   "metadata": {},
   "outputs": [],
   "source": []
  }
 ],
 "metadata": {
  "kernelspec": {
   "display_name": "anaconda-ai-2024.04-py310",
   "language": "python",
   "name": "conda-env-anaconda-ai-2024.04-py310-py"
  },
  "language_info": {
   "codemirror_mode": {
    "name": "ipython",
    "version": 3
   },
   "file_extension": ".py",
   "mimetype": "text/x-python",
   "name": "python",
   "nbconvert_exporter": "python",
   "pygments_lexer": "ipython3",
   "version": "3.10.13"
  }
 },
 "nbformat": 4,
 "nbformat_minor": 5
}
